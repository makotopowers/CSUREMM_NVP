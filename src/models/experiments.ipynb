{
 "cells": [
  {
   "cell_type": "code",
   "execution_count": 1,
   "metadata": {},
   "outputs": [],
   "source": [
    "# import packages\n",
    "import numpy as np\n",
    "import seaborn as sns\n",
    "import matplotlib.pyplot as plt\n",
    "import pandas_datareader as pdr\n",
    "\n",
    "# import local packages\n",
    "from basic_models import tsf_functions"
   ]
  },
  {
   "cell_type": "code",
   "execution_count": 5,
   "metadata": {},
   "outputs": [
    {
     "data": {
      "text/plain": [
       "(725, 1)"
      ]
     },
     "execution_count": 5,
     "metadata": {},
     "output_type": "execute_result"
    }
   ],
   "source": [
    "housing_data = pdr.get_data_fred(\"HOUSTNSA\", \"1959-01-01\", \"2019-06-01\")\n",
    "data = housing_data.HOUSTNSA.pct_change().dropna().to_numpy()[:, np.newaxis]\n",
    "data.shape"
   ]
  },
  {
   "cell_type": "code",
   "execution_count": 3,
   "metadata": {},
   "outputs": [],
   "source": [
    "p, d, q = 1, 1, 1\n",
    "P, D, Q = 1, 1, 1\n",
    "m = 12"
   ]
  },
  {
   "cell_type": "code",
   "execution_count": 6,
   "metadata": {},
   "outputs": [],
   "source": [
    "functions = tsf_functions(data, p=p, d=d, q=q, P=P, D=D, Q=Q, m=m)"
   ]
  },
  {
   "cell_type": "code",
   "execution_count": 8,
   "metadata": {},
   "outputs": [
    {
     "name": "stderr",
     "output_type": "stream",
     "text": [
      "/home/eturok/anaconda3/envs/newsvendor/lib/python3.10/site-packages/statsmodels/base/model.py:604: ConvergenceWarning: Maximum Likelihood optimization failed to converge. Check mle_retvals\n",
      "  warnings.warn(\"Maximum Likelihood optimization failed to \"\n",
      " This problem is unconstrained.\n"
     ]
    },
    {
     "name": "stdout",
     "output_type": "stream",
     "text": [
      "RUNNING THE L-BFGS-B CODE\n",
      "\n",
      "           * * *\n",
      "\n",
      "Machine precision = 2.220D-16\n",
      " N =            5     M =           10\n",
      "\n",
      "At X0         0 variables are exactly at the bounds\n",
      "\n",
      "At iterate    0    f= -7.37916D-01    |proj g|=  2.59629D+00\n",
      "\n",
      "At iterate    5    f= -7.84685D-01    |proj g|=  6.06320D-01\n",
      "\n",
      "At iterate   10    f= -8.30672D-01    |proj g|=  2.60045D-01\n",
      "\n",
      "At iterate   15    f= -8.87141D-01    |proj g|=  6.93876D-02\n",
      "\n",
      "At iterate   20    f= -8.99233D-01    |proj g|=  1.95396D-02\n",
      "\n",
      "At iterate   25    f= -9.00556D-01    |proj g|=  1.89460D-01\n",
      "\n",
      "At iterate   30    f= -9.14085D-01    |proj g|=  5.12855D-01\n",
      "\n",
      "At iterate   35    f= -9.17048D-01    |proj g|=  7.81343D-02\n",
      "\n",
      "At iterate   40    f= -9.17468D-01    |proj g|=  1.21162D-02\n",
      "\n",
      "At iterate   45    f= -9.17480D-01    |proj g|=  6.49723D-03\n"
     ]
    },
    {
     "name": "stderr",
     "output_type": "stream",
     "text": [
      "/home/eturok/anaconda3/envs/newsvendor/lib/python3.10/site-packages/statsmodels/base/model.py:604: ConvergenceWarning: Maximum Likelihood optimization failed to converge. Check mle_retvals\n",
      "  warnings.warn(\"Maximum Likelihood optimization failed to \"\n"
     ]
    },
    {
     "name": "stdout",
     "output_type": "stream",
     "text": [
      "\n",
      "At iterate   50    f= -9.17483D-01    |proj g|=  7.54913D-05\n",
      "\n",
      "           * * *\n",
      "\n",
      "Tit   = total number of iterations\n",
      "Tnf   = total number of function evaluations\n",
      "Tnint = total number of segments explored during Cauchy searches\n",
      "Skip  = number of BFGS updates skipped\n",
      "Nact  = number of active bounds at final generalized Cauchy point\n",
      "Projg = norm of the final projected gradient\n",
      "F     = final function value\n",
      "\n",
      "           * * *\n",
      "\n",
      "   N    Tit     Tnf  Tnint  Skip  Nact     Projg        F\n",
      "    5     50     65      1     0     0   7.549D-05  -9.175D-01\n",
      "  F = -0.91748331409174089     \n",
      "\n",
      "STOP: TOTAL NO. of ITERATIONS REACHED LIMIT                 \n",
      "RUNNING THE L-BFGS-B CODE\n",
      "\n",
      "           * * *\n",
      "\n",
      "Machine precision = 2.220D-16\n",
      " N =            5     M =           10\n",
      "\n",
      "At X0         0 variables are exactly at the bounds\n",
      "\n",
      "At iterate    0    f= -7.37916D-01    |proj g|=  2.59629D+00\n"
     ]
    },
    {
     "name": "stderr",
     "output_type": "stream",
     "text": [
      " This problem is unconstrained.\n"
     ]
    },
    {
     "name": "stdout",
     "output_type": "stream",
     "text": [
      "\n",
      "At iterate    5    f= -7.84685D-01    |proj g|=  6.06320D-01\n",
      "\n",
      "At iterate   10    f= -8.30672D-01    |proj g|=  2.60045D-01\n",
      "\n",
      "At iterate   15    f= -8.87141D-01    |proj g|=  6.93876D-02\n",
      "\n",
      "At iterate   20    f= -8.99233D-01    |proj g|=  1.95396D-02\n",
      "\n",
      "At iterate   25    f= -9.00556D-01    |proj g|=  1.89460D-01\n",
      "\n",
      "At iterate   30    f= -9.14085D-01    |proj g|=  5.12855D-01\n",
      "\n",
      "At iterate   35    f= -9.17048D-01    |proj g|=  7.81343D-02\n",
      "\n",
      "At iterate   40    f= -9.17468D-01    |proj g|=  1.21162D-02\n",
      "\n",
      "At iterate   45    f= -9.17480D-01    |proj g|=  6.49723D-03\n"
     ]
    },
    {
     "name": "stderr",
     "output_type": "stream",
     "text": [
      "/home/eturok/anaconda3/envs/newsvendor/lib/python3.10/site-packages/statsmodels/base/model.py:604: ConvergenceWarning: Maximum Likelihood optimization failed to converge. Check mle_retvals\n",
      "  warnings.warn(\"Maximum Likelihood optimization failed to \"\n"
     ]
    },
    {
     "name": "stdout",
     "output_type": "stream",
     "text": [
      "\n",
      "At iterate   50    f= -9.17483D-01    |proj g|=  7.54913D-05\n",
      "\n",
      "           * * *\n",
      "\n",
      "Tit   = total number of iterations\n",
      "Tnf   = total number of function evaluations\n",
      "Tnint = total number of segments explored during Cauchy searches\n",
      "Skip  = number of BFGS updates skipped\n",
      "Nact  = number of active bounds at final generalized Cauchy point\n",
      "Projg = norm of the final projected gradient\n",
      "F     = final function value\n",
      "\n",
      "           * * *\n",
      "\n",
      "   N    Tit     Tnf  Tnint  Skip  Nact     Projg        F\n",
      "    5     50     65      1     0     0   7.549D-05  -9.175D-01\n",
      "  F = -0.91748331409174089     \n",
      "\n",
      "STOP: TOTAL NO. of ITERATIONS REACHED LIMIT                 \n"
     ]
    }
   ],
   "source": [
    "for model_name, model in functions.items():\n",
    "    model.fit().predict(len(data), len(data))"
   ]
  },
  {
   "cell_type": "code",
   "execution_count": null,
   "metadata": {},
   "outputs": [],
   "source": []
  }
 ],
 "metadata": {
  "interpreter": {
   "hash": "9f0e2a6c0a74c1aecdb7d445cfc7ccb900afc613877fca3e2b6b639de53a556b"
  },
  "kernelspec": {
   "display_name": "Python 3.10.4 ('newsvendor')",
   "language": "python",
   "name": "python3"
  },
  "language_info": {
   "codemirror_mode": {
    "name": "ipython",
    "version": 3
   },
   "file_extension": ".py",
   "mimetype": "text/x-python",
   "name": "python",
   "nbconvert_exporter": "python",
   "pygments_lexer": "ipython3",
   "version": "3.10.4"
  },
  "orig_nbformat": 4
 },
 "nbformat": 4,
 "nbformat_minor": 2
}
